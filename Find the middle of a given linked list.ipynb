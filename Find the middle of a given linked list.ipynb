{
 "cells": [
  {
   "cell_type": "code",
   "execution_count": 7,
   "metadata": {},
   "outputs": [
    {
     "name": "stdout",
     "output_type": "stream",
     "text": [
      "5->NULL\n",
      "The middle element is  5\n",
      "4->5->NULL\n",
      "The middle element is  5\n",
      "3->4->5->NULL\n",
      "The middle element is  4\n",
      "2->3->4->5->NULL\n",
      "The middle element is  4\n",
      "1->2->3->4->5->NULL\n",
      "The middle element is  3\n",
      "Code is compiled by Velly Mhlanga\n"
     ]
    }
   ],
   "source": [
    "class Node:\n",
    "\n",
    "    def __init__(self, data):\n",
    "        self.data = data # Assign data\n",
    "        self.next = None # Initialize next as null\n",
    "\n",
    "class LinkedList:\n",
    "\n",
    "    def __init__(self):\n",
    "        self.head = None\n",
    "\n",
    "\n",
    "    def push(self, new_data):\n",
    "        new_node = Node(new_data)\n",
    "        new_node.next = self.head\n",
    "        self.head = new_node\n",
    "\n",
    "    def printList(self):\n",
    "        node = self.head\n",
    "        while node:\n",
    "            print(str(node.data) + \"->\", end=\"\")\n",
    "            node = node.next\n",
    "        print(\"NULL\")\n",
    "\n",
    "    def printMiddle(self):\n",
    "        slow = self.head\n",
    "        fast = self.head\n",
    "\n",
    "        while fast and fast.next:\n",
    "            slow = slow.next\n",
    "            fast = fast.next.next\n",
    "\n",
    "        print(\"The middle element is \", slow.data)\n",
    "\n",
    "# Code execution starts here\n",
    "if __name__=='__main__':\n",
    "\n",
    "    llist = LinkedList()\n",
    "    for i in range(5, 0, -1):\n",
    "        llist.push(i)\n",
    "        llist.printList()\n",
    "        llist.printMiddle()\n",
    "        \n",
    "print(\"Code is compiled by Velly Mhlanga\")"
   ]
  },
  {
   "cell_type": "code",
   "execution_count": null,
   "metadata": {},
   "outputs": [],
   "source": []
  }
 ],
 "metadata": {
  "kernelspec": {
   "display_name": "Python 3",
   "language": "python",
   "name": "python3"
  },
  "language_info": {
   "codemirror_mode": {
    "name": "ipython",
    "version": 3
   },
   "file_extension": ".py",
   "mimetype": "text/x-python",
   "name": "python",
   "nbconvert_exporter": "python",
   "pygments_lexer": "ipython3",
   "version": "3.8.3"
  }
 },
 "nbformat": 4,
 "nbformat_minor": 4
}
